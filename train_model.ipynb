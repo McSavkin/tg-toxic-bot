{
 "cells": [
  {
   "cell_type": "code",
   "execution_count": 324,
   "metadata": {},
   "outputs": [],
   "source": [
    "import numpy as np\n",
    "import pandas as pd\n",
    "\n",
    "from sklearn.linear_model import LogisticRegression\n",
    "from sklearn.model_selection import train_test_split\n",
    "from sklearn.model_selection import cross_val_score\n",
    "from sklearn.preprocessing import LabelEncoder\n",
    "\n",
    "import torch\n",
    "from torch import nn\n",
    "\n",
    "import matplotlib.pyplot as plt\n",
    "\n",
    "# импортируем трансформеры\n",
    "import transformers\n",
    "import warnings\n",
    "warnings.filterwarnings('ignore')\n"
   ]
  },
  {
   "cell_type": "code",
   "execution_count": 325,
   "metadata": {},
   "outputs": [],
   "source": [
    "df = pd.read_csv('data/labeled.csv')"
   ]
  },
  {
   "cell_type": "code",
   "execution_count": 326,
   "metadata": {},
   "outputs": [
    {
     "data": {
      "text/html": [
       "<div>\n",
       "<style scoped>\n",
       "    .dataframe tbody tr th:only-of-type {\n",
       "        vertical-align: middle;\n",
       "    }\n",
       "\n",
       "    .dataframe tbody tr th {\n",
       "        vertical-align: top;\n",
       "    }\n",
       "\n",
       "    .dataframe thead th {\n",
       "        text-align: right;\n",
       "    }\n",
       "</style>\n",
       "<table border=\"1\" class=\"dataframe\">\n",
       "  <thead>\n",
       "    <tr style=\"text-align: right;\">\n",
       "      <th></th>\n",
       "      <th>comment</th>\n",
       "      <th>toxic</th>\n",
       "    </tr>\n",
       "  </thead>\n",
       "  <tbody>\n",
       "    <tr>\n",
       "      <th>0</th>\n",
       "      <td>Верблюдов-то за что? Дебилы, бл...\\n</td>\n",
       "      <td>1.0</td>\n",
       "    </tr>\n",
       "    <tr>\n",
       "      <th>1</th>\n",
       "      <td>Хохлы, это отдушина затюканого россиянина, мол...</td>\n",
       "      <td>1.0</td>\n",
       "    </tr>\n",
       "    <tr>\n",
       "      <th>2</th>\n",
       "      <td>Собаке - собачья смерть\\n</td>\n",
       "      <td>1.0</td>\n",
       "    </tr>\n",
       "    <tr>\n",
       "      <th>3</th>\n",
       "      <td>Страницу обнови, дебил. Это тоже не оскорблени...</td>\n",
       "      <td>1.0</td>\n",
       "    </tr>\n",
       "    <tr>\n",
       "      <th>4</th>\n",
       "      <td>тебя не убедил 6-страничный пдф в том, что Скр...</td>\n",
       "      <td>1.0</td>\n",
       "    </tr>\n",
       "  </tbody>\n",
       "</table>\n",
       "</div>"
      ],
      "text/plain": [
       "                                             comment  toxic\n",
       "0               Верблюдов-то за что? Дебилы, бл...\\n    1.0\n",
       "1  Хохлы, это отдушина затюканого россиянина, мол...    1.0\n",
       "2                          Собаке - собачья смерть\\n    1.0\n",
       "3  Страницу обнови, дебил. Это тоже не оскорблени...    1.0\n",
       "4  тебя не убедил 6-страничный пдф в том, что Скр...    1.0"
      ]
     },
     "execution_count": 326,
     "metadata": {},
     "output_type": "execute_result"
    }
   ],
   "source": [
    "df.head()"
   ]
  },
  {
   "cell_type": "code",
   "execution_count": 327,
   "metadata": {},
   "outputs": [
    {
     "data": {
      "text/html": [
       "<div>\n",
       "<style scoped>\n",
       "    .dataframe tbody tr th:only-of-type {\n",
       "        vertical-align: middle;\n",
       "    }\n",
       "\n",
       "    .dataframe tbody tr th {\n",
       "        vertical-align: top;\n",
       "    }\n",
       "\n",
       "    .dataframe thead th {\n",
       "        text-align: right;\n",
       "    }\n",
       "</style>\n",
       "<table border=\"1\" class=\"dataframe\">\n",
       "  <thead>\n",
       "    <tr style=\"text-align: right;\">\n",
       "      <th></th>\n",
       "      <th>comment</th>\n",
       "      <th>toxic</th>\n",
       "    </tr>\n",
       "  </thead>\n",
       "  <tbody>\n",
       "    <tr>\n",
       "      <th>0</th>\n",
       "      <td>верблюдовто дебилы бл</td>\n",
       "      <td>1.0</td>\n",
       "    </tr>\n",
       "    <tr>\n",
       "      <th>1</th>\n",
       "      <td>хохлы это отдушина затюканого россиянина мол в...</td>\n",
       "      <td>1.0</td>\n",
       "    </tr>\n",
       "    <tr>\n",
       "      <th>2</th>\n",
       "      <td>собаке собачья смерть</td>\n",
       "      <td>1.0</td>\n",
       "    </tr>\n",
       "    <tr>\n",
       "      <th>3</th>\n",
       "      <td>страницу обнови дебил это оскорбление доказанн...</td>\n",
       "      <td>1.0</td>\n",
       "    </tr>\n",
       "    <tr>\n",
       "      <th>4</th>\n",
       "      <td>убедил 6страничный пдф скрипалей отравила росс...</td>\n",
       "      <td>1.0</td>\n",
       "    </tr>\n",
       "  </tbody>\n",
       "</table>\n",
       "</div>"
      ],
      "text/plain": [
       "                                             comment  toxic\n",
       "0                              верблюдовто дебилы бл    1.0\n",
       "1  хохлы это отдушина затюканого россиянина мол в...    1.0\n",
       "2                              собаке собачья смерть    1.0\n",
       "3  страницу обнови дебил это оскорбление доказанн...    1.0\n",
       "4  убедил 6страничный пдф скрипалей отравила росс...    1.0"
      ]
     },
     "execution_count": 327,
     "metadata": {},
     "output_type": "execute_result"
    }
   ],
   "source": [
    "import re\n",
    "import string\n",
    "from collections import Counter\n",
    "\n",
    "from nltk.corpus import stopwords\n",
    "\n",
    "stop_words = set(stopwords.words(\"russian\"))\n",
    "\n",
    "def data_preprocessing(text: str) -> str:\n",
    "    \"\"\"preprocessing string: lowercase, removing html-tags, punctuation and stopwords\n",
    "\n",
    "    Args:\n",
    "        text (str): input string for preprocessing\n",
    "\n",
    "    Returns:\n",
    "        str: preprocessed string\n",
    "    \"\"\"\n",
    "\n",
    "    text = text.lower()\n",
    "    text = re.sub(\"<.*?>\", \"\", text)  # html tags\n",
    "    text = \"\".join([c for c in text if c not in string.punctuation])\n",
    "    splitted_text = [word for word in text.split() if word not in stop_words]\n",
    "    text = \" \".join(splitted_text)\n",
    "    return text\n",
    "\n",
    "\n",
    "df[\"comment\"] = df[\"comment\"].apply(data_preprocessing)\n",
    "df.head()"
   ]
  },
  {
   "cell_type": "code",
   "execution_count": 328,
   "metadata": {},
   "outputs": [
    {
     "data": {
      "text/html": [
       "<div>\n",
       "<style scoped>\n",
       "    .dataframe tbody tr th:only-of-type {\n",
       "        vertical-align: middle;\n",
       "    }\n",
       "\n",
       "    .dataframe tbody tr th {\n",
       "        vertical-align: top;\n",
       "    }\n",
       "\n",
       "    .dataframe thead th {\n",
       "        text-align: right;\n",
       "    }\n",
       "</style>\n",
       "<table border=\"1\" class=\"dataframe\">\n",
       "  <thead>\n",
       "    <tr style=\"text-align: right;\">\n",
       "      <th></th>\n",
       "      <th>comment</th>\n",
       "      <th>toxic</th>\n",
       "      <th>Review len</th>\n",
       "    </tr>\n",
       "  </thead>\n",
       "  <tbody>\n",
       "    <tr>\n",
       "      <th>0</th>\n",
       "      <td>верблюдовто дебилы бл</td>\n",
       "      <td>1.0</td>\n",
       "      <td>21</td>\n",
       "    </tr>\n",
       "    <tr>\n",
       "      <th>1</th>\n",
       "      <td>хохлы это отдушина затюканого россиянина мол в...</td>\n",
       "      <td>1.0</td>\n",
       "      <td>83</td>\n",
       "    </tr>\n",
       "    <tr>\n",
       "      <th>2</th>\n",
       "      <td>собаке собачья смерть</td>\n",
       "      <td>1.0</td>\n",
       "      <td>21</td>\n",
       "    </tr>\n",
       "    <tr>\n",
       "      <th>3</th>\n",
       "      <td>страницу обнови дебил это оскорбление доказанн...</td>\n",
       "      <td>1.0</td>\n",
       "      <td>123</td>\n",
       "    </tr>\n",
       "    <tr>\n",
       "      <th>4</th>\n",
       "      <td>убедил 6страничный пдф скрипалей отравила росс...</td>\n",
       "      <td>1.0</td>\n",
       "      <td>86</td>\n",
       "    </tr>\n",
       "  </tbody>\n",
       "</table>\n",
       "</div>"
      ],
      "text/plain": [
       "                                             comment  toxic  Review len\n",
       "0                              верблюдовто дебилы бл    1.0          21\n",
       "1  хохлы это отдушина затюканого россиянина мол в...    1.0          83\n",
       "2                              собаке собачья смерть    1.0          21\n",
       "3  страницу обнови дебил это оскорбление доказанн...    1.0         123\n",
       "4  убедил 6страничный пдф скрипалей отравила росс...    1.0          86"
      ]
     },
     "execution_count": 328,
     "metadata": {},
     "output_type": "execute_result"
    }
   ],
   "source": [
    "review_len = [len(text) for text in df['comment']]\n",
    "df['Review len'] = review_len\n",
    "df.head()"
   ]
  },
  {
   "cell_type": "code",
   "execution_count": 329,
   "metadata": {},
   "outputs": [
    {
     "name": "stdout",
     "output_type": "stream",
     "text": [
      "count    14412.000000\n",
      "mean       133.618998\n",
      "std        217.317922\n",
      "min          0.000000\n",
      "25%         41.000000\n",
      "50%         75.000000\n",
      "75%        147.000000\n",
      "max       6229.000000\n",
      "Name: Review len, dtype: float64\n"
     ]
    }
   ],
   "source": [
    "print(df['Review len'].describe())"
   ]
  },
  {
   "cell_type": "code",
   "execution_count": 330,
   "metadata": {},
   "outputs": [
    {
     "data": {
      "text/plain": [
       "'mps'"
      ]
     },
     "execution_count": 330,
     "metadata": {},
     "output_type": "execute_result"
    }
   ],
   "source": [
    "device = 'mps' if torch.mps.is_available() else 'cpu'\n",
    "device"
   ]
  },
  {
   "cell_type": "markdown",
   "metadata": {},
   "source": [
    "# 1.TOKENIZER"
   ]
  },
  {
   "cell_type": "code",
   "execution_count": 331,
   "metadata": {},
   "outputs": [],
   "source": [
    "import torch\n",
    "from transformers import AutoTokenizer, AutoModel\n",
    "\n",
    "model_checkpoint = 'cointegrated/rubert-tiny-toxicity'\n",
    "tokenizer = AutoTokenizer.from_pretrained(model_checkpoint)\n",
    "model = AutoModel.from_pretrained(model_checkpoint)"
   ]
  },
  {
   "cell_type": "code",
   "execution_count": 332,
   "metadata": {},
   "outputs": [
    {
     "data": {
      "text/plain": [
       "BertModel(\n",
       "  (embeddings): BertEmbeddings(\n",
       "    (word_embeddings): Embedding(29564, 312, padding_idx=0)\n",
       "    (position_embeddings): Embedding(512, 312)\n",
       "    (token_type_embeddings): Embedding(2, 312)\n",
       "    (LayerNorm): LayerNorm((312,), eps=1e-12, elementwise_affine=True)\n",
       "    (dropout): Dropout(p=0.1, inplace=False)\n",
       "  )\n",
       "  (encoder): BertEncoder(\n",
       "    (layer): ModuleList(\n",
       "      (0-2): 3 x BertLayer(\n",
       "        (attention): BertAttention(\n",
       "          (self): BertSdpaSelfAttention(\n",
       "            (query): Linear(in_features=312, out_features=312, bias=True)\n",
       "            (key): Linear(in_features=312, out_features=312, bias=True)\n",
       "            (value): Linear(in_features=312, out_features=312, bias=True)\n",
       "            (dropout): Dropout(p=0.1, inplace=False)\n",
       "          )\n",
       "          (output): BertSelfOutput(\n",
       "            (dense): Linear(in_features=312, out_features=312, bias=True)\n",
       "            (LayerNorm): LayerNorm((312,), eps=1e-12, elementwise_affine=True)\n",
       "            (dropout): Dropout(p=0.1, inplace=False)\n",
       "          )\n",
       "        )\n",
       "        (intermediate): BertIntermediate(\n",
       "          (dense): Linear(in_features=312, out_features=600, bias=True)\n",
       "          (intermediate_act_fn): GELUActivation()\n",
       "        )\n",
       "        (output): BertOutput(\n",
       "          (dense): Linear(in_features=600, out_features=312, bias=True)\n",
       "          (LayerNorm): LayerNorm((312,), eps=1e-12, elementwise_affine=True)\n",
       "          (dropout): Dropout(p=0.1, inplace=False)\n",
       "        )\n",
       "      )\n",
       "    )\n",
       "  )\n",
       "  (pooler): BertPooler(\n",
       "    (dense): Linear(in_features=312, out_features=312, bias=True)\n",
       "    (activation): Tanh()\n",
       "  )\n",
       ")"
      ]
     },
     "execution_count": 332,
     "metadata": {},
     "output_type": "execute_result"
    }
   ],
   "source": [
    "model.to(device)"
   ]
  },
  {
   "cell_type": "code",
   "execution_count": 333,
   "metadata": {},
   "outputs": [],
   "source": [
    "train_texts, val_texts, train_labels, val_labels = train_test_split(\n",
    "    df[\"comment\"].tolist(), df[\"toxic\"].tolist(), test_size=0.2, random_state=42\n",
    ")\n",
    "\n",
    "train_df = pd.DataFrame({\n",
    "    \"comment\": train_texts,\n",
    "    \"toxic\": train_labels\n",
    "})\n",
    "\n",
    "val_df = pd.DataFrame({\n",
    "    \"comment\": val_texts,\n",
    "    \"toxic\": val_labels\n",
    "})"
   ]
  },
  {
   "cell_type": "code",
   "execution_count": 334,
   "metadata": {},
   "outputs": [
    {
     "data": {
      "text/html": [
       "<div>\n",
       "<style scoped>\n",
       "    .dataframe tbody tr th:only-of-type {\n",
       "        vertical-align: middle;\n",
       "    }\n",
       "\n",
       "    .dataframe tbody tr th {\n",
       "        vertical-align: top;\n",
       "    }\n",
       "\n",
       "    .dataframe thead th {\n",
       "        text-align: right;\n",
       "    }\n",
       "</style>\n",
       "<table border=\"1\" class=\"dataframe\">\n",
       "  <thead>\n",
       "    <tr style=\"text-align: right;\">\n",
       "      <th></th>\n",
       "      <th>comment</th>\n",
       "      <th>toxic</th>\n",
       "    </tr>\n",
       "  </thead>\n",
       "  <tbody>\n",
       "    <tr>\n",
       "      <th>0</th>\n",
       "      <td>последнюю серию специально смотрю сериал закон...</td>\n",
       "      <td>0.0</td>\n",
       "    </tr>\n",
       "    <tr>\n",
       "      <th>1</th>\n",
       "      <td>это тяжёлая работа ктото должен её делать</td>\n",
       "      <td>0.0</td>\n",
       "    </tr>\n",
       "    <tr>\n",
       "      <th>2</th>\n",
       "      <td>рецептурные вообще названий самое известное эт...</td>\n",
       "      <td>0.0</td>\n",
       "    </tr>\n",
       "    <tr>\n",
       "      <th>3</th>\n",
       "      <td>горные обезьяны это типа киргизы</td>\n",
       "      <td>1.0</td>\n",
       "    </tr>\n",
       "    <tr>\n",
       "      <th>4</th>\n",
       "      <td>холодильнике хранился завонял просто половину ...</td>\n",
       "      <td>0.0</td>\n",
       "    </tr>\n",
       "    <tr>\n",
       "      <th>...</th>\n",
       "      <td>...</td>\n",
       "      <td>...</td>\n",
       "    </tr>\n",
       "    <tr>\n",
       "      <th>11524</th>\n",
       "      <td>знаю откуда машин столько людей районы новые с...</td>\n",
       "      <td>0.0</td>\n",
       "    </tr>\n",
       "    <tr>\n",
       "      <th>11525</th>\n",
       "      <td>кандидатка завалилась электрохромизме могут тв...</td>\n",
       "      <td>1.0</td>\n",
       "    </tr>\n",
       "    <tr>\n",
       "      <th>11526</th>\n",
       "      <td>второй сезон полная хуета</td>\n",
       "      <td>0.0</td>\n",
       "    </tr>\n",
       "    <tr>\n",
       "      <th>11527</th>\n",
       "      <td>мда хотел просто спасибо сказать какуюто обиже...</td>\n",
       "      <td>1.0</td>\n",
       "    </tr>\n",
       "    <tr>\n",
       "      <th>11528</th>\n",
       "      <td>год это прямо максимум максимум среднем 3 мес ...</td>\n",
       "      <td>0.0</td>\n",
       "    </tr>\n",
       "  </tbody>\n",
       "</table>\n",
       "<p>11529 rows × 2 columns</p>\n",
       "</div>"
      ],
      "text/plain": [
       "                                                 comment  toxic\n",
       "0      последнюю серию специально смотрю сериал закон...    0.0\n",
       "1              это тяжёлая работа ктото должен её делать    0.0\n",
       "2      рецептурные вообще названий самое известное эт...    0.0\n",
       "3                       горные обезьяны это типа киргизы    1.0\n",
       "4      холодильнике хранился завонял просто половину ...    0.0\n",
       "...                                                  ...    ...\n",
       "11524  знаю откуда машин столько людей районы новые с...    0.0\n",
       "11525  кандидатка завалилась электрохромизме могут тв...    1.0\n",
       "11526                          второй сезон полная хуета    0.0\n",
       "11527  мда хотел просто спасибо сказать какуюто обиже...    1.0\n",
       "11528  год это прямо максимум максимум среднем 3 мес ...    0.0\n",
       "\n",
       "[11529 rows x 2 columns]"
      ]
     },
     "execution_count": 334,
     "metadata": {},
     "output_type": "execute_result"
    }
   ],
   "source": [
    "train_df"
   ]
  },
  {
   "cell_type": "code",
   "execution_count": 335,
   "metadata": {},
   "outputs": [],
   "source": [
    "SEQ_LEN = 150\n",
    "\n",
    "train_encoded_messages = train_df['comment'].apply(\n",
    "    lambda x: tokenizer(x, max_length=SEQ_LEN, truncation=True, padding='max_length')\n",
    ").values\n",
    "\n",
    "val_encoded_messages = val_df['comment'].apply(\n",
    "    lambda x: tokenizer(x, max_length=SEQ_LEN, truncation=True, padding='max_length')\n",
    ").values"
   ]
  },
  {
   "cell_type": "code",
   "execution_count": 336,
   "metadata": {},
   "outputs": [
    {
     "data": {
      "text/plain": [
       "{'input_ids': [2, 328, 4225, 9438, 14033, 1308, 24681, 24570, 29076, 12923, 626, 2389, 6500, 638, 981, 6500, 638, 981, 2389, 29231, 4318, 1023, 1619, 17045, 10672, 26941, 7278, 10365, 626, 28032, 721, 10543, 589, 9745, 1888, 6222, 13305, 16890, 21418, 4636, 10750, 3272, 26335, 13011, 1967, 2225, 12666, 20806, 4550, 10861, 28009, 5571, 19860, 22239, 24530, 16495, 1395, 18503, 1736, 3, 0, 0, 0, 0, 0, 0, 0, 0, 0, 0, 0, 0, 0, 0, 0, 0, 0, 0, 0, 0, 0, 0, 0, 0, 0, 0, 0, 0, 0, 0, 0, 0, 0, 0, 0, 0, 0, 0, 0, 0, 0, 0, 0, 0, 0, 0, 0, 0, 0, 0, 0, 0, 0, 0, 0, 0, 0, 0, 0, 0, 0, 0, 0, 0, 0, 0, 0, 0, 0, 0, 0, 0, 0, 0, 0, 0, 0, 0, 0, 0, 0, 0, 0, 0, 0, 0, 0, 0, 0, 0], 'token_type_ids': [0, 0, 0, 0, 0, 0, 0, 0, 0, 0, 0, 0, 0, 0, 0, 0, 0, 0, 0, 0, 0, 0, 0, 0, 0, 0, 0, 0, 0, 0, 0, 0, 0, 0, 0, 0, 0, 0, 0, 0, 0, 0, 0, 0, 0, 0, 0, 0, 0, 0, 0, 0, 0, 0, 0, 0, 0, 0, 0, 0, 0, 0, 0, 0, 0, 0, 0, 0, 0, 0, 0, 0, 0, 0, 0, 0, 0, 0, 0, 0, 0, 0, 0, 0, 0, 0, 0, 0, 0, 0, 0, 0, 0, 0, 0, 0, 0, 0, 0, 0, 0, 0, 0, 0, 0, 0, 0, 0, 0, 0, 0, 0, 0, 0, 0, 0, 0, 0, 0, 0, 0, 0, 0, 0, 0, 0, 0, 0, 0, 0, 0, 0, 0, 0, 0, 0, 0, 0, 0, 0, 0, 0, 0, 0, 0, 0, 0, 0, 0, 0], 'attention_mask': [1, 1, 1, 1, 1, 1, 1, 1, 1, 1, 1, 1, 1, 1, 1, 1, 1, 1, 1, 1, 1, 1, 1, 1, 1, 1, 1, 1, 1, 1, 1, 1, 1, 1, 1, 1, 1, 1, 1, 1, 1, 1, 1, 1, 1, 1, 1, 1, 1, 1, 1, 1, 1, 1, 1, 1, 1, 1, 1, 1, 0, 0, 0, 0, 0, 0, 0, 0, 0, 0, 0, 0, 0, 0, 0, 0, 0, 0, 0, 0, 0, 0, 0, 0, 0, 0, 0, 0, 0, 0, 0, 0, 0, 0, 0, 0, 0, 0, 0, 0, 0, 0, 0, 0, 0, 0, 0, 0, 0, 0, 0, 0, 0, 0, 0, 0, 0, 0, 0, 0, 0, 0, 0, 0, 0, 0, 0, 0, 0, 0, 0, 0, 0, 0, 0, 0, 0, 0, 0, 0, 0, 0, 0, 0, 0, 0, 0, 0, 0, 0]}"
      ]
     },
     "execution_count": 336,
     "metadata": {},
     "output_type": "execute_result"
    }
   ],
   "source": [
    "train_encoded_messages[2]"
   ]
  },
  {
   "cell_type": "code",
   "execution_count": 337,
   "metadata": {},
   "outputs": [
    {
     "data": {
      "text/plain": [
       "2"
      ]
     },
     "execution_count": 337,
     "metadata": {},
     "output_type": "execute_result"
    }
   ],
   "source": [
    "# 2.LabelEncoding\n",
    "le = LabelEncoder()\n",
    "\n",
    "train_labels = le.fit_transform(train_df['toxic'])\n",
    "val_labels = le.fit_transform(val_df['toxic'])\n",
    "NUMBER_OF_CLASSES = len(np.unique(train_labels))\n",
    "NUMBER_OF_CLASSES"
   ]
  },
  {
   "cell_type": "code",
   "execution_count": 338,
   "metadata": {},
   "outputs": [
    {
     "data": {
      "text/plain": [
       "array([0, 0, 0, ..., 0, 1, 0])"
      ]
     },
     "execution_count": 338,
     "metadata": {},
     "output_type": "execute_result"
    }
   ],
   "source": [
    "train_labels"
   ]
  },
  {
   "cell_type": "code",
   "execution_count": 339,
   "metadata": {},
   "outputs": [
    {
     "data": {
      "text/plain": [
       "(tensor([    2,   328,  4225,  9438, 14033,  1308, 24681, 24570, 29076, 12923,\n",
       "           626,  2389,  6500,   638,   981,  6500,   638,   981,  2389, 29231,\n",
       "          4318,  1023,  1619, 17045, 10672, 26941,  7278, 10365,   626, 28032,\n",
       "           721, 10543,   589,  9745,  1888,  6222, 13305, 16890, 21418,  4636,\n",
       "         10750,  3272, 26335, 13011,  1967,  2225, 12666, 20806,  4550, 10861,\n",
       "         28009,  5571, 19860, 22239, 24530, 16495,  1395, 18503,  1736,     3,\n",
       "             0,     0,     0,     0,     0,     0,     0,     0,     0,     0,\n",
       "             0,     0,     0,     0,     0,     0,     0,     0,     0,     0,\n",
       "             0,     0,     0,     0,     0,     0,     0,     0,     0,     0,\n",
       "             0,     0,     0,     0,     0,     0,     0,     0,     0,     0,\n",
       "             0,     0,     0,     0,     0,     0,     0,     0,     0,     0,\n",
       "             0,     0,     0,     0,     0,     0,     0,     0,     0,     0,\n",
       "             0,     0,     0,     0,     0,     0,     0,     0,     0,     0,\n",
       "             0,     0,     0,     0,     0,     0,     0,     0,     0,     0,\n",
       "             0,     0,     0,     0,     0,     0,     0,     0,     0,     0],\n",
       "        device='mps:0'),\n",
       " tensor([1, 1, 1, 1, 1, 1, 1, 1, 1, 1, 1, 1, 1, 1, 1, 1, 1, 1, 1, 1, 1, 1, 1, 1,\n",
       "         1, 1, 1, 1, 1, 1, 1, 1, 1, 1, 1, 1, 1, 1, 1, 1, 1, 1, 1, 1, 1, 1, 1, 1,\n",
       "         1, 1, 1, 1, 1, 1, 1, 1, 1, 1, 1, 1, 0, 0, 0, 0, 0, 0, 0, 0, 0, 0, 0, 0,\n",
       "         0, 0, 0, 0, 0, 0, 0, 0, 0, 0, 0, 0, 0, 0, 0, 0, 0, 0, 0, 0, 0, 0, 0, 0,\n",
       "         0, 0, 0, 0, 0, 0, 0, 0, 0, 0, 0, 0, 0, 0, 0, 0, 0, 0, 0, 0, 0, 0, 0, 0,\n",
       "         0, 0, 0, 0, 0, 0, 0, 0, 0, 0, 0, 0, 0, 0, 0, 0, 0, 0, 0, 0, 0, 0, 0, 0,\n",
       "         0, 0, 0, 0, 0, 0], device='mps:0'),\n",
       " tensor(0, device='mps:0'))"
      ]
     },
     "execution_count": 339,
     "metadata": {},
     "output_type": "execute_result"
    }
   ],
   "source": [
    "# 3. BertInputs (DATASET)\n",
    "class BertInputs(torch.utils.data.Dataset):\n",
    "    def __init__(self, encoded_messages, labels, device='mps'):\n",
    "        super().__init__()\n",
    "        self.inputs = encoded_messages\n",
    "        self.labels = labels\n",
    "        self.device = device\n",
    "\n",
    "    def __len__(self):\n",
    "        return len(self.inputs)\n",
    "\n",
    "    def __getitem__(self, idx):\n",
    "        input_ids = torch.tensor(self.inputs[idx]['input_ids'], device=self.device).long()\n",
    "        attention_mask = torch.tensor(self.inputs[idx]['attention_mask'], device=self.device).long()\n",
    "        label = torch.tensor(self.labels[idx], device=self.device).long()\n",
    "\n",
    "        return input_ids, attention_mask, label\n",
    "\n",
    "\n",
    "train_dataset = BertInputs(train_encoded_messages, train_labels, device=device)\n",
    "val_dataset = BertInputs(val_encoded_messages, val_labels, device=device)\n",
    "\n",
    "# Извлечение одного примера\n",
    "test_ids, test_mask, test_label = train_dataset[2]\n",
    "\n",
    "\n",
    "test_ids, test_mask, test_label"
   ]
  },
  {
   "cell_type": "code",
   "execution_count": 340,
   "metadata": {},
   "outputs": [],
   "source": [
    "# 4. DATALOADER\n",
    "BATCH_SIZE = 64\n",
    "\n",
    "train_loader = torch.utils.data.DataLoader(train_dataset, batch_size=BATCH_SIZE, shuffle=True)\n",
    "val_loader = torch.utils.data.DataLoader(val_dataset, batch_size=BATCH_SIZE, shuffle=True)"
   ]
  },
  {
   "cell_type": "code",
   "execution_count": 341,
   "metadata": {},
   "outputs": [],
   "source": [
    "class MyToxicBERT(nn.Module):\n",
    "    def __init__(self, model):\n",
    "        super().__init__()\n",
    "        self.model = model\n",
    "        for param in self.model.parameters():\n",
    "            param.requires_grad = False\n",
    "        self.linear = nn.Sequential(\n",
    "            nn.Linear(312, 256),\n",
    "            nn.Dropout(),\n",
    "            nn.Linear(256, 1),\n",
    "        )\n",
    "\n",
    "    def forward(self, input_ids, attention_mask):\n",
    "        # Получаем скрытые состояния от базовой модели\n",
    "        outputs = self.model(input_ids=input_ids, attention_mask=attention_mask)\n",
    "        \n",
    "        # Используем `last_hidden_state` для CLS токена\n",
    "        hidden_states = outputs.last_hidden_state  # Скрытые состояния\n",
    "        cls_token = hidden_states[:, 0, :]  # Первый токен для CLS\n",
    "        \n",
    "        # Пропускаем через линейный слой, чтобы получить логиты\n",
    "        logits = self.linear(cls_token)\n",
    "        return logits\n",
    "    \n",
    "\t"
   ]
  },
  {
   "cell_type": "code",
   "execution_count": 342,
   "metadata": {},
   "outputs": [
    {
     "data": {
      "text/plain": [
       "MyToxicBERT(\n",
       "  (model): BertModel(\n",
       "    (embeddings): BertEmbeddings(\n",
       "      (word_embeddings): Embedding(29564, 312, padding_idx=0)\n",
       "      (position_embeddings): Embedding(512, 312)\n",
       "      (token_type_embeddings): Embedding(2, 312)\n",
       "      (LayerNorm): LayerNorm((312,), eps=1e-12, elementwise_affine=True)\n",
       "      (dropout): Dropout(p=0.1, inplace=False)\n",
       "    )\n",
       "    (encoder): BertEncoder(\n",
       "      (layer): ModuleList(\n",
       "        (0-2): 3 x BertLayer(\n",
       "          (attention): BertAttention(\n",
       "            (self): BertSdpaSelfAttention(\n",
       "              (query): Linear(in_features=312, out_features=312, bias=True)\n",
       "              (key): Linear(in_features=312, out_features=312, bias=True)\n",
       "              (value): Linear(in_features=312, out_features=312, bias=True)\n",
       "              (dropout): Dropout(p=0.1, inplace=False)\n",
       "            )\n",
       "            (output): BertSelfOutput(\n",
       "              (dense): Linear(in_features=312, out_features=312, bias=True)\n",
       "              (LayerNorm): LayerNorm((312,), eps=1e-12, elementwise_affine=True)\n",
       "              (dropout): Dropout(p=0.1, inplace=False)\n",
       "            )\n",
       "          )\n",
       "          (intermediate): BertIntermediate(\n",
       "            (dense): Linear(in_features=312, out_features=600, bias=True)\n",
       "            (intermediate_act_fn): GELUActivation()\n",
       "          )\n",
       "          (output): BertOutput(\n",
       "            (dense): Linear(in_features=600, out_features=312, bias=True)\n",
       "            (LayerNorm): LayerNorm((312,), eps=1e-12, elementwise_affine=True)\n",
       "            (dropout): Dropout(p=0.1, inplace=False)\n",
       "          )\n",
       "        )\n",
       "      )\n",
       "    )\n",
       "    (pooler): BertPooler(\n",
       "      (dense): Linear(in_features=312, out_features=312, bias=True)\n",
       "      (activation): Tanh()\n",
       "    )\n",
       "  )\n",
       "  (linear): Sequential(\n",
       "    (0): Linear(in_features=312, out_features=256, bias=True)\n",
       "    (1): Dropout(p=0.5, inplace=False)\n",
       "    (2): Linear(in_features=256, out_features=1, bias=True)\n",
       "  )\n",
       ")"
      ]
     },
     "execution_count": 342,
     "metadata": {},
     "output_type": "execute_result"
    }
   ],
   "source": [
    "my_model = MyToxicBERT(model)\n",
    "my_model.to(device)"
   ]
  },
  {
   "cell_type": "code",
   "execution_count": 343,
   "metadata": {},
   "outputs": [
    {
     "name": "stdout",
     "output_type": "stream",
     "text": [
      "torch.Size([64, 1])\n"
     ]
    }
   ],
   "source": [
    "input_ids, attention_mask, labels = next(iter(train_loader))\n",
    "outputs = my_model(input_ids=input_ids.to(device), attention_mask=attention_mask.to(device))\n",
    "print(outputs.shape)  # Должен быть размер (batch_size, 1)"
   ]
  },
  {
   "cell_type": "code",
   "execution_count": null,
   "metadata": {},
   "outputs": [],
   "source": []
  },
  {
   "cell_type": "code",
   "execution_count": 344,
   "metadata": {},
   "outputs": [],
   "source": [
    "import torch.optim as optim\n",
    "from sklearn.metrics import f1_score\n",
    "from torch.utils.data import DataLoader\n",
    "from time import time\n",
    "criterion = nn.BCEWithLogitsLoss()\n",
    "optimizer = optim.Adam(my_model.linear.parameters(), lr=0.005)"
   ]
  },
  {
   "cell_type": "code",
   "execution_count": 345,
   "metadata": {},
   "outputs": [],
   "source": [
    "def train(\n",
    "        epochs: int,\n",
    "        model: torch.nn.Module,\n",
    "        train_loader: DataLoader,\n",
    "        valid_loader: DataLoader,\n",
    "        optimizer: torch.optim.Optimizer,\n",
    "        criterion,\n",
    "        metric,\n",
    "        device: torch.device\n",
    "        ) -> tuple:\n",
    "    \"\"\"Training BERT model for multi-class classification task\n",
    "\n",
    "    Args:\n",
    "        epochs (int): Number of epochs\n",
    "        model (nn.Module): Model instance\n",
    "        train_loader (DataLoader): train loader\n",
    "        valid_loader (DataLoader): valid loader\n",
    "        optimizer (torch.optim.Optimizer): optimizer\n",
    "        criterion (nn.Module): criterion\n",
    "        metric (_type_): metric from torchmetrics\n",
    "        device (torch.device): device to train on (cpu or cuda)\n",
    "\n",
    "    Returns:\n",
    "        tuple: (train loss, valid loss, train metric, valid metric, training_time)\n",
    "    \"\"\"\n",
    "    epoch_train_losses = []\n",
    "    epoch_valid_losses = []\n",
    "    epoch_train_metric = []\n",
    "    epoch_valid_metric = []\n",
    "    time_start = time()\n",
    "\n",
    "    for epoch in range(epochs):\n",
    "        batch_losses = []\n",
    "        batch_metric = []\n",
    "        model.train()\n",
    "        model.to(device)\n",
    "\n",
    "        for input_ids, attention_mask, labels in train_loader:\n",
    "            input_ids, attention_mask, labels = input_ids.to(device), attention_mask.to(device), labels.to(device)\n",
    "            optimizer.zero_grad()\n",
    "            labels = labels.unsqueeze(1).float()  # Добавляем размерность для соответствия выходу модели\n",
    "\t\t\t\t\n",
    "            outputs = model(input_ids=input_ids, attention_mask=attention_mask)\n",
    "            loss = criterion(outputs, labels)\n",
    "            loss.backward()\n",
    "            optimizer.step()\n",
    "\n",
    "            batch_losses.append(loss.item())\n",
    "            batch_metric.append(f1_score(labels.cpu(), outputs.argmax(1).cpu(), average='weighted'))\n",
    "\n",
    "        epoch_train_losses.append(np.mean(batch_losses))\n",
    "        epoch_train_metric.append(np.mean(batch_metric))\n",
    "\n",
    "        batch_losses = []\n",
    "        batch_metric = []\n",
    "        model.eval()\n",
    "\n",
    "        with torch.no_grad():\n",
    "            for input_ids, attention_mask, labels in valid_loader:\n",
    "                input_ids, attention_mask, labels = input_ids.to(device), attention_mask.to(device), labels.to(device)\n",
    "                labels = labels.unsqueeze(1).float()  # Добавляем размерность для соответствия выходу модели\n",
    "\n",
    "                outputs = model(input_ids=input_ids, attention_mask=attention_mask)\n",
    "                loss = criterion(outputs, labels)\n",
    "\n",
    "                batch_losses.append(loss.item())\n",
    "                batch_metric.append(f1_score(labels.cpu(), outputs.argmax(1).cpu(), average='weighted'))\n",
    "\n",
    "        epoch_valid_losses.append(np.mean(batch_losses))\n",
    "        epoch_valid_metric.append(np.mean(batch_metric))\n",
    "\n",
    "        print(f'Epoch {epoch+1}/{epochs}')\n",
    "        print(f'Train Loss: {epoch_train_losses[-1]:.4f} | Val Loss: {epoch_valid_losses[-1]:.4f}')\n",
    "        print(f'Train F1 Score: {epoch_train_metric[-1]:.4f} | Val F1 Score: {epoch_valid_metric[-1]:.4f}')\n",
    "        print(25 * '==')\n",
    "\n",
    "    training_time = time() - time_start\n",
    "    return epoch_train_losses, epoch_valid_losses, epoch_train_metric, epoch_valid_metric, training_time"
   ]
  },
  {
   "cell_type": "code",
   "execution_count": 346,
   "metadata": {},
   "outputs": [
    {
     "name": "stdout",
     "output_type": "stream",
     "text": [
      "Epoch 1/20\n",
      "Train Loss: 0.3962 | Val Loss: 0.3306\n",
      "Train F1 Score: 0.5290 | Val F1 Score: 0.5444\n",
      "==================================================\n",
      "Epoch 2/20\n",
      "Train Loss: 0.3799 | Val Loss: 0.3059\n",
      "Train F1 Score: 0.5305 | Val F1 Score: 0.5536\n",
      "==================================================\n",
      "Epoch 3/20\n",
      "Train Loss: 0.3757 | Val Loss: 0.2959\n",
      "Train F1 Score: 0.5294 | Val F1 Score: 0.5444\n",
      "==================================================\n",
      "Epoch 4/20\n",
      "Train Loss: 0.3742 | Val Loss: 0.3522\n",
      "Train F1 Score: 0.5315 | Val F1 Score: 0.5446\n",
      "==================================================\n",
      "Epoch 5/20\n",
      "Train Loss: 0.3846 | Val Loss: 0.2818\n",
      "Train F1 Score: 0.5306 | Val F1 Score: 0.5537\n",
      "==================================================\n",
      "Epoch 6/20\n",
      "Train Loss: 0.3859 | Val Loss: 0.3119\n",
      "Train F1 Score: 0.5306 | Val F1 Score: 0.5366\n",
      "==================================================\n",
      "Epoch 7/20\n",
      "Train Loss: 0.3787 | Val Loss: 0.3547\n",
      "Train F1 Score: 0.5295 | Val F1 Score: 0.5367\n",
      "==================================================\n",
      "Epoch 8/20\n",
      "Train Loss: 0.3884 | Val Loss: 0.3104\n",
      "Train F1 Score: 0.5308 | Val F1 Score: 0.5544\n",
      "==================================================\n",
      "Epoch 9/20\n",
      "Train Loss: 0.3926 | Val Loss: 0.3426\n",
      "Train F1 Score: 0.5298 | Val F1 Score: 0.5368\n",
      "==================================================\n",
      "Epoch 10/20\n",
      "Train Loss: 0.3893 | Val Loss: 0.2928\n",
      "Train F1 Score: 0.5300 | Val F1 Score: 0.5367\n",
      "==================================================\n",
      "Epoch 11/20\n",
      "Train Loss: 0.3800 | Val Loss: 0.3208\n",
      "Train F1 Score: 0.5315 | Val F1 Score: 0.5368\n",
      "==================================================\n",
      "Epoch 12/20\n",
      "Train Loss: 0.3906 | Val Loss: 0.3914\n",
      "Train F1 Score: 0.5291 | Val F1 Score: 0.5447\n",
      "==================================================\n",
      "Epoch 13/20\n",
      "Train Loss: 0.3834 | Val Loss: 0.3350\n",
      "Train F1 Score: 0.5292 | Val F1 Score: 0.5368\n",
      "==================================================\n",
      "Epoch 14/20\n",
      "Train Loss: 0.3866 | Val Loss: 0.3117\n",
      "Train F1 Score: 0.5304 | Val F1 Score: 0.5441\n",
      "==================================================\n",
      "Epoch 15/20\n",
      "Train Loss: 0.3837 | Val Loss: 0.3169\n",
      "Train F1 Score: 0.5299 | Val F1 Score: 0.5445\n",
      "==================================================\n",
      "Epoch 16/20\n",
      "Train Loss: 0.3802 | Val Loss: 0.3176\n",
      "Train F1 Score: 0.5305 | Val F1 Score: 0.5543\n",
      "==================================================\n",
      "Epoch 17/20\n",
      "Train Loss: 0.3913 | Val Loss: 0.2860\n",
      "Train F1 Score: 0.5307 | Val F1 Score: 0.5450\n",
      "==================================================\n",
      "Epoch 18/20\n",
      "Train Loss: 0.3880 | Val Loss: 0.3057\n",
      "Train F1 Score: 0.5312 | Val F1 Score: 0.5445\n",
      "==================================================\n",
      "Epoch 19/20\n",
      "Train Loss: 0.3791 | Val Loss: 0.3257\n",
      "Train F1 Score: 0.5306 | Val F1 Score: 0.5333\n",
      "==================================================\n",
      "Epoch 20/20\n",
      "Train Loss: 0.3866 | Val Loss: 0.3018\n",
      "Train F1 Score: 0.5308 | Val F1 Score: 0.5364\n",
      "==================================================\n"
     ]
    }
   ],
   "source": [
    "# Обучение модели\n",
    "train_losses, val_losses, train_f1, val_f1, training_time = train(\n",
    "    epochs=20,\n",
    "    model=my_model,\n",
    "    train_loader=train_loader,\n",
    "    valid_loader=val_loader,\n",
    "    optimizer=optimizer,\n",
    "    criterion=criterion,\n",
    "    metric=f1_score,\n",
    "    device=device\n",
    ")"
   ]
  },
  {
   "cell_type": "code",
   "execution_count": 347,
   "metadata": {},
   "outputs": [
    {
     "data": {
      "image/png": "[encoded data removed]",
      "text/plain": [
       "<Figure size 1200x500 with 2 Axes>"
      ]
     },
     "metadata": {},
     "output_type": "display_data"
    }
   ],
   "source": [
    "# Отрисовка графиков\n",
    "import matplotlib.pyplot as plt\n",
    "\n",
    "plt.figure(figsize=(12, 5))\n",
    "\n",
    "plt.subplot(1, 2, 1)\n",
    "plt.plot(range(20), train_losses, label='Train Loss')\n",
    "plt.plot(range(20), val_losses, label='Validation Loss')\n",
    "plt.xlabel('Epochs')\n",
    "plt.ylabel('Loss')\n",
    "plt.legend()\n",
    "plt.title('Training and Validation Loss')\n",
    "\n",
    "plt.subplot(1, 2, 2)\n",
    "plt.plot(range(20), train_f1, label='Train F1 Score')\n",
    "plt.plot(range(20), val_f1, label='Validation F1 Score')\n",
    "plt.xlabel('Epochs')\n",
    "plt.ylabel('F1 Score')\n",
    "plt.legend()\n",
    "plt.title('Training and Validation F1 Score')\n",
    "\n",
    "plt.show()"
   ]
  },
  {
   "cell_type": "code",
   "execution_count": 348,
   "metadata": {},
   "outputs": [],
   "source": [
    "# Сохранение весов модели\n",
    "torch.save(my_model.state_dict(), 'model.pth')"
   ]
  },
  {
   "cell_type": "code",
   "execution_count": null,
   "metadata": {},
   "outputs": [],
   "source": []
  }
 ],
 "metadata": {
  "kernelspec": {
   "display_name": "gey",
   "language": "python",
   "name": "python3"
  },
  "language_info": {
   "codemirror_mode": {
    "name": "ipython",
    "version": 3
   },
   "file_extension": ".py",
   "mimetype": "text/x-python",
   "name": "python",
   "nbconvert_exporter": "python",
   "pygments_lexer": "ipython3",
   "version": "3.10.15"
  }
 },
 "nbformat": 4,
 "nbformat_minor": 2
}
